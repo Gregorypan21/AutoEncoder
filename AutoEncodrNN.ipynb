{
  "nbformat": 4,
  "nbformat_minor": 0,
  "metadata": {
    "colab": {
      "provenance": []
    },
    "kernelspec": {
      "name": "python3",
      "display_name": "Python 3"
    },
    "language_info": {
      "name": "python"
    }
  },
  "cells": [
    {
      "cell_type": "code",
      "execution_count": 252,
      "metadata": {
        "id": "LIQOJGNyYdiA"
      },
      "outputs": [],
      "source": [
        "import matplotlib.pyplot as plt\n",
        "import tensorflow as tf\n",
        "from tensorflow import keras\n",
        "from keras import datasets\n",
        "import numpy as np"
      ]
    },
    {
      "cell_type": "code",
      "source": [
        "data = tf.keras.datasets.mnist\n",
        "(x_train, y_train),(x_test, y_test) = data.load_data()\n",
        "\n"
      ],
      "metadata": {
        "id": "oUqr200jYrZP"
      },
      "execution_count": 253,
      "outputs": []
    },
    {
      "cell_type": "code",
      "source": [
        "plt.imshow(x_train[0],cmap='gray')\n",
        "plt.show()\n"
      ],
      "metadata": {
        "colab": {
          "base_uri": "https://localhost:8080/",
          "height": 265
        },
        "id": "V2Dc33LRYuK7",
        "outputId": "54fb27f5-80db-4d8d-de78-553267b91245"
      },
      "execution_count": 254,
      "outputs": [
        {
          "output_type": "display_data",
          "data": {
            "text/plain": [
              "<Figure size 432x288 with 1 Axes>"
            ],
            "image/png": "[encoded data removed]"
          },
          "metadata": {
            "needs_background": "light"
          }
        }
      ]
    },
    {
      "cell_type": "markdown",
      "source": [
        "Normalize Data"
      ],
      "metadata": {
        "id": "MbWOWCn7bVgE"
      }
    },
    {
      "cell_type": "code",
      "source": [
        "x_train= x_train/255.0\n",
        "x_test= x_test/255.0\n"
      ],
      "metadata": {
        "id": "uIFLdvrgbZ6s"
      },
      "execution_count": 255,
      "outputs": []
    },
    {
      "cell_type": "markdown",
      "source": [
        "Encoder\n"
      ],
      "metadata": {
        "id": "uceco9Gtbm1s"
      }
    },
    {
      "cell_type": "code",
      "source": [
        "encoder_input = keras.Input(shape=(28,28,1), name='original')\n",
        "x = keras.layers.Flatten()(encoder_input)\n",
        "encoder_output = keras.layers.Dense(64, activation='relu')(x)\n",
        "\n",
        "\n",
        "encoder = keras.Model(encoder_input, encoder_output, name='encoder')\n",
        "   \n",
        "\n",
        "\n",
        "\n"
      ],
      "metadata": {
        "id": "MoGLcvGoboPU"
      },
      "execution_count": 256,
      "outputs": []
    },
    {
      "cell_type": "markdown",
      "source": [
        "Decoder\n"
      ],
      "metadata": {
        "id": "JOd4tP18dBES"
      }
    },
    {
      "cell_type": "code",
      "source": [
        "decoder_input = keras.layers.Dense(64, activation='sigmoid')(encoder_output)\n",
        "x = keras.layers.Dense(784, activation='sigmoid')(decoder_input)\n",
        "decoder_output = keras.layers.Reshape((28, 28, 1))(x)\n",
        "\n",
        "\n",
        "decoder = keras.Model(decoder_input, decoder_output, name='decoder')\n",
        "\n"
      ],
      "metadata": {
        "id": "xZYOh5AidC1E"
      },
      "execution_count": 257,
      "outputs": []
    },
    {
      "cell_type": "markdown",
      "source": [
        "AutoEncoder\n"
      ],
      "metadata": {
        "id": "lhQfbvJhdgZW"
      }
    },
    {
      "cell_type": "code",
      "source": [
        "autoencoder = keras.Model(encoder_input, decoder_output, name = 'autoencoder')\n",
        "autoencoder.summary()"
      ],
      "metadata": {
        "colab": {
          "base_uri": "https://localhost:8080/"
        },
        "id": "tJ0Qj1Y0djju",
        "outputId": "7d338bb7-9854-48c0-9e86-1503c7c4c5bd"
      },
      "execution_count": 258,
      "outputs": [
        {
          "output_type": "stream",
          "name": "stdout",
          "text": [
            "Model: \"autoencoder\"\n",
            "_________________________________________________________________\n",
            " Layer (type)                Output Shape              Param #   \n",
            "=================================================================\n",
            " original (InputLayer)       [(None, 28, 28, 1)]       0         \n",
            "                                                                 \n",
            " flatten_19 (Flatten)        (None, 784)               0         \n",
            "                                                                 \n",
            " dense_62 (Dense)            (None, 64)                50240     \n",
            "                                                                 \n",
            " dense_63 (Dense)            (None, 64)                4160      \n",
            "                                                                 \n",
            " dense_64 (Dense)            (None, 784)               50960     \n",
            "                                                                 \n",
            " reshape_18 (Reshape)        (None, 28, 28, 1)         0         \n",
            "                                                                 \n",
            "=================================================================\n",
            "Total params: 105,360\n",
            "Trainable params: 105,360\n",
            "Non-trainable params: 0\n",
            "_________________________________________________________________\n"
          ]
        }
      ]
    },
    {
      "cell_type": "code",
      "source": [
        "optimizer = keras.optimizers.Adam(learning_rate=0.001)\n",
        "loss ='mse'\n",
        "\n",
        "\n",
        "autoencoder.compile(optimizer, loss)\n",
        "autoencoder.fit(x_train, x_train, epochs = 5, batch_size= 32,validation_split=0.1)\n"
      ],
      "metadata": {
        "colab": {
          "base_uri": "https://localhost:8080/"
        },
        "id": "KnN1TKgQ46L-",
        "outputId": "292abbe3-cb1d-4518-d25f-36da3c3104e9"
      },
      "execution_count": 259,
      "outputs": [
        {
          "output_type": "stream",
          "name": "stdout",
          "text": [
            "Epoch 1/5\n",
            "1688/1688 [==============================] - 10s 5ms/step - loss: 0.0642 - val_loss: 0.0562\n",
            "Epoch 2/5\n",
            "1688/1688 [==============================] - 9s 5ms/step - loss: 0.0516 - val_loss: 0.0478\n",
            "Epoch 3/5\n",
            "1688/1688 [==============================] - 11s 6ms/step - loss: 0.0464 - val_loss: 0.0447\n",
            "Epoch 4/5\n",
            "1688/1688 [==============================] - 9s 5ms/step - loss: 0.0441 - val_loss: 0.0431\n",
            "Epoch 5/5\n",
            "1688/1688 [==============================] - 8s 5ms/step - loss: 0.0428 - val_loss: 0.0421\n"
          ]
        },
        {
          "output_type": "execute_result",
          "data": {
            "text/plain": [
              "<keras.callbacks.History at 0x7f1e8d6bea90>"
            ]
          },
          "metadata": {},
          "execution_count": 259
        }
      ]
    },
    {
      "cell_type": "code",
      "source": [
        "example = encoder.predict([x_test[0].reshape(-1,28,28,1)])[0]\n",
        "plt.imshow(example.reshape((8,8)), cmap='gray')\n",
        "plt.show()"
      ],
      "metadata": {
        "colab": {
          "base_uri": "https://localhost:8080/",
          "height": 283
        },
        "id": "lKvyHuQN_lQ0",
        "outputId": "12729fa2-9c84-43fb-996e-5c770ccddfbf"
      },
      "execution_count": 260,
      "outputs": [
        {
          "output_type": "stream",
          "name": "stdout",
          "text": [
            "1/1 [==============================] - 0s 47ms/step\n"
          ]
        },
        {
          "output_type": "display_data",
          "data": {
            "text/plain": [
              "<Figure size 432x288 with 1 Axes>"
            ],
            "image/png": "[encoded data removed]"
          },
          "metadata": {
            "needs_background": "light"
          }
        }
      ]
    },
    {
      "cell_type": "code",
      "source": [
        "plt.imshow(x_test[1], cmap=\"gray\")"
      ],
      "metadata": {
        "colab": {
          "base_uri": "https://localhost:8080/",
          "height": 283
        },
        "id": "cuHasa-JaPSy",
        "outputId": "a83ab9ef-39f3-4fbc-e3e0-05d008914186"
      },
      "execution_count": 261,
      "outputs": [
        {
          "output_type": "execute_result",
          "data": {
            "text/plain": [
              "<matplotlib.image.AxesImage at 0x7f1ea0121790>"
            ]
          },
          "metadata": {},
          "execution_count": 261
        },
        {
          "output_type": "display_data",
          "data": {
            "text/plain": [
              "<Figure size 432x288 with 1 Axes>"
            ],
            "image/png": "[encoded data removed]"
          },
          "metadata": {
            "needs_background": "light"
          }
        }
      ]
    },
    {
      "cell_type": "code",
      "source": [
        "exampleauto = autoencoder.predict([ x_test[1].reshape(-1,28, 28,1)])\n",
        "plt.imshow(exampleauto.reshape(28,28), cmap=\"gray\")"
      ],
      "metadata": {
        "colab": {
          "base_uri": "https://localhost:8080/",
          "height": 302
        },
        "id": "MBP7PlIlC0D_",
        "outputId": "b49370c6-e95a-4348-936c-d0efa6c52aa8"
      },
      "execution_count": 262,
      "outputs": [
        {
          "output_type": "stream",
          "name": "stdout",
          "text": [
            "1/1 [==============================] - 0s 66ms/step\n"
          ]
        },
        {
          "output_type": "execute_result",
          "data": {
            "text/plain": [
              "<matplotlib.image.AxesImage at 0x7f1eb0e40970>"
            ]
          },
          "metadata": {},
          "execution_count": 262
        },
        {
          "output_type": "display_data",
          "data": {
            "text/plain": [
              "<Figure size 432x288 with 1 Axes>"
            ],
            "image/png": "[encoded data removed]"
          },
          "metadata": {
            "needs_background": "light"
          }
        }
      ]
    }
  ]
}